{
 "cells": [
  {
   "cell_type": "code",
   "execution_count": 3,
   "metadata": {},
   "outputs": [],
   "source": [
    "import numpy as np"
   ]
  },
  {
   "cell_type": "code",
   "execution_count": 14,
   "metadata": {},
   "outputs": [
    {
     "name": "stdout",
     "output_type": "stream",
     "text": [
      "[[ 0  7 44 28 44  7 27 10 47 49 53]\n",
      " [ 7  0 41 22 50 14 34  3 51 50 60]\n",
      " [44 41  0 53 54 46 65 37 91 25 91]\n",
      " [28 22 53  0 72 35 50 22 57 69 74]\n",
      " [44 50 54 72  0 38 38 51 69 34 52]\n",
      " [ 7 14 46 35 38  0 20 17 45 47 47]\n",
      " [27 34 65 50 38 20  0 37 31 60 26]\n",
      " [10  3 37 22 51 17 37  0 55 48 63]\n",
      " [47 51 91 57 69 45 31 55  0 91 29]\n",
      " [49 50 25 69 34 47 60 48 91  0 82]\n",
      " [53 60 91 74 52 47 26 63 29 82  0]]\n"
     ]
    }
   ],
   "source": [
    "coordinates = [[44.563128, 47.541734], [37.806330, 50.599689], [9.961241, 20.337535], [28.186895, 70.415357], \n",
    "               [62.129582, 6.183050], [50.376904, 42.796106], [71.285134, 43.671987], [34.156316, 49.113437], \n",
    "               [85.201575, 71.837519], [27.466659, 1.394696], [97.985778, 44.746239]]\n",
    "\n",
    "cost = np.array([[0]*len(coordinates)]*len(coordinates))\n",
    "\n",
    "\n",
    "for i in range(len(coordinates)):\n",
    "    for j in range(len(coordinates)):\n",
    "        if i != j:\n",
    "            cost[i][j] = np.sqrt(((coordinates[i][0]-coordinates[j][0])**2 + (coordinates[i][1]-coordinates[j][1])**2))\n",
    "        else:\n",
    "            cost[i][j] = 0\n",
    "        \n",
    "print (cost)"
   ]
  }
 ],
 "metadata": {
  "kernelspec": {
   "display_name": "Python 3",
   "language": "python",
   "name": "python3"
  },
  "language_info": {
   "codemirror_mode": {
    "name": "ipython",
    "version": 3
   },
   "file_extension": ".py",
   "mimetype": "text/x-python",
   "name": "python",
   "nbconvert_exporter": "python",
   "pygments_lexer": "ipython3",
   "version": "3.6.5"
  }
 },
 "nbformat": 4,
 "nbformat_minor": 2
}
