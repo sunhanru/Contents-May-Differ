{
 "cells": [
  {
   "cell_type": "code",
   "execution_count": 1,
   "metadata": {},
   "outputs": [],
   "source": [
    "import glob, os\n",
    "import csv\n",
    "import numpy as np\n",
    "import math\n",
    "\n",
    "def distance(p0, p1):\n",
    "    return math.sqrt((p0[0] - p1[0])**2 + (p0[1] - p1[1])**2)\n"
   ]
  },
  {
   "cell_type": "code",
   "execution_count": 72,
   "metadata": {},
   "outputs": [],
   "source": [
    "#In this PREPROCESS, whenever Concorde chooses to branch on an edge with a zero LP value, we omit that data point\n",
    "\n",
    "path = \"./dataset/\"\n",
    "dirs = os.listdir(path)\n",
    "\n",
    "numFiles = 5696 #had to remove some data that had I/O issues\n",
    "numCols = 50\n",
    "Xall = np.zeros(shape=(numFiles, numCols))\n",
    "Yall = np.zeros(shape=(numFiles, numCols))\n",
    "\n",
    "\n",
    "#print(len(dirs))\n",
    "index = 0\n",
    "for file in dirs:\n",
    "    fname = \"./dataset/\" + file\n",
    "    coords = np.genfromtxt(fname=fname, skip_header=6,max_rows=50,\n",
    "                       usecols=(1,2))\n",
    "\n",
    "    data = np.genfromtxt(fname=fname, skip_header=58,usecols=(0,1,2))\n",
    "    X = np.zeros(shape=data[:,2].shape)\n",
    "    Y = np.zeros(shape=data[:,2].shape)\n",
    "    target = np.genfromtxt(fname=fname, skip_header=56,\n",
    "                           max_rows=1,usecols=(0,1))\n",
    "    target = [int(x) for x in target]\n",
    "\n",
    "\n",
    "    for i, num in enumerate(X):\n",
    "        fr = (coords[int(data[i,0]), 0], coords[int(data[i,0]), 1])\n",
    "        to = (coords[int(data[i,1]), 0], coords[int(data[i,1]), 1])\n",
    "        X[i] = data[i, 2] * distance(fr, to)\n",
    "        if target[0] == data[i, 0] and target[1] == data[i, 1]:\n",
    "            Y[i] = 1\n",
    "        elif target[1] == data[i, 0] and target[0] == data[i, 1]:\n",
    "            Y[i] = 1\n",
    "    \n",
    "    #if np.count_nonzero(Y) == 0:\n",
    "    #    print(\"DEBUG\", index)\n",
    "      \n",
    "    if X.shape[0] > numCols:\n",
    "        z = np.zeros((numFiles, X.shape[0] - numCols))\n",
    "        Xall = np.concatenate((Xall,z), axis=1)\n",
    "        Yall = np.concatenate((Yall,z), axis=1)\n",
    "        numCols = X.shape[0]\n",
    "    \n",
    "    if X.shape[0] < numCols:\n",
    "        z = np.zeros((1, numCols - X.shape[0]))\n",
    "        z=z[0]\n",
    "        X = np.concatenate((X, z))\n",
    "        Y = np.concatenate((Y, z))\n",
    "        \n",
    "    #if np.count_nonzero(Y) == 0:\n",
    "    #    print(\"DEBUG\", index)\n",
    "    \n",
    "    Xall[index,:] = X\n",
    "    Yall[index,:] = Y\n",
    "      \n",
    "    index = index + 1\n",
    "\n",
    "        \n",
    "Xall = Xall[~np.all(Yall == 0, axis=1)]\n",
    "Yall = Yall[~np.all(Yall == 0, axis=1)]"
   ]
  },
  {
   "cell_type": "code",
   "execution_count": 69,
   "metadata": {},
   "outputs": [],
   "source": []
  },
  {
   "cell_type": "code",
   "execution_count": null,
   "metadata": {},
   "outputs": [],
   "source": []
  },
  {
   "cell_type": "code",
   "execution_count": null,
   "metadata": {},
   "outputs": [],
   "source": []
  },
  {
   "cell_type": "code",
   "execution_count": null,
   "metadata": {},
   "outputs": [],
   "source": []
  },
  {
   "cell_type": "code",
   "execution_count": null,
   "metadata": {},
   "outputs": [],
   "source": []
  }
 ],
 "metadata": {
  "kernelspec": {
   "display_name": "Python 3",
   "language": "python",
   "name": "python3"
  },
  "language_info": {
   "codemirror_mode": {
    "name": "ipython",
    "version": 3
   },
   "file_extension": ".py",
   "mimetype": "text/x-python",
   "name": "python",
   "nbconvert_exporter": "python",
   "pygments_lexer": "ipython3",
   "version": "3.6.8"
  }
 },
 "nbformat": 4,
 "nbformat_minor": 2
}
